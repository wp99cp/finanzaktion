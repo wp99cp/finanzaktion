{
 "cells": [
  {
   "cell_type": "code",
   "metadata": {},
   "source": [
    "import firebase_admin\n",
    "from firebase_admin import credentials, firestore\n",
    "\n",
    "\n",
    "# Use the application default credentials\n",
    "cred = credentials.Certificate('keys/finanzaktion-db-key.json')\n",
    "firebase_admin.initialize_app(cred)\n",
    "db = firestore.client()"
   ],
   "outputs": [],
   "execution_count": null
  },
  {
   "cell_type": "code",
   "metadata": {},
   "source": [
    "sponsoren_ref = db.collection(u'sponsoren').stream()"
   ],
   "outputs": [],
   "execution_count": null
  },
  {
   "cell_type": "code",
   "metadata": {},
   "source": [
    "sponsoren = list(map(lambda doc: doc.to_dict(), sponsoren_ref))"
   ],
   "outputs": [],
   "execution_count": null
  },
  {
   "cell_type": "code",
   "source": [
    "merged = []\n",
    "\n",
    "for sponsor in sponsoren:\n",
    "    print(sponsoren)\n",
    "    participant = db.document(u'participants/'+sponsor['sponsor_of']).get().to_dict()\n",
    "    participant = {'participant_' + str(key): val for key, val in participant.items()}\n",
    "\n",
    "    sponsor = sponsor.update(participant)\n",
    "    merged.append(sponsor)"
   ],
   "metadata": {
    "collapsed": false
   },
   "outputs": [],
   "execution_count": null
  },
  {
   "cell_type": "code",
   "source": [
    "import pandas as pd\n",
    "df = pd.DataFrame(data=sponsoren)\n",
    "df.to_csv('export.csv')"
   ],
   "metadata": {
    "collapsed": false
   },
   "outputs": [],
   "execution_count": null
  },
  {
   "cell_type": "code",
   "source": [],
   "metadata": {
    "collapsed": false
   },
   "outputs": [],
   "execution_count": null
  },
  {
   "cell_type": "code",
   "source": [
    "!pip install firebase_admin\n"
   ],
   "metadata": {
    "collapsed": false
   },
   "outputs": [],
   "execution_count": null
  },
  {
   "cell_type": "code",
   "source": [],
   "metadata": {
    "collapsed": false
   },
   "outputs": [],
   "execution_count": null
  }
 ],
 "metadata": {
  "kernelspec": {
   "display_name": "Python 3",
   "language": "python",
   "name": "python3"
  },
  "language_info": {
   "codemirror_mode": {
    "name": "ipython",
    "version": 3
   },
   "file_extension": ".py",
   "mimetype": "text/x-python",
   "name": "python",
   "nbconvert_exporter": "python",
   "pygments_lexer": "ipython3",
   "version": "3.8.5"
  }
 },
 "nbformat": 4,
 "nbformat_minor": 4
}
